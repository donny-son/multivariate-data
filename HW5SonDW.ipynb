{
 "cells": [
  {
   "cell_type": "code",
   "execution_count": 1,
   "metadata": {},
   "outputs": [],
   "source": [
    "import numpy as np\n",
    "import pandas as pd\n",
    "from scipy.stats import chi2, f\n",
    "import matplotlib.pyplot as plt\n",
    "import pprint\n",
    "try:\n",
    "    import termplotlib as tpl\n",
    "except Exception as e:\n",
    "    print(f\"termploblib is not installed.\\nUsing matplotlib as default.\")"
   ]
  },
  {
   "cell_type": "markdown",
   "metadata": {},
   "source": [
    "## 1.\n",
    "\n",
    "Hotelling's test is implemented as a method for the `MultivariateData` object as `profile_analysis`. "
   ]
  },
  {
   "cell_type": "code",
   "execution_count": 2,
   "metadata": {},
   "outputs": [],
   "source": [
    "class MultivariateData:\n",
    "    \"\"\"\n",
    "        Object for computing multivariate data\n",
    "\n",
    "        Attributes:\n",
    "            data (np.array): input data\n",
    "            n, (int):\n",
    "            p (int):\n",
    "            mean_vector (np.array):\n",
    "            covariance_matrix (np.array):\n",
    "\n",
    "        Args:\n",
    "            inputdata (np.array, list, tuple, ...): any iterable object that numpy supports\n",
    "    \"\"\"\n",
    "\n",
    "    def __init__(self, inputdata) -> None:\n",
    "        self.data = np.array(inputdata)\n",
    "        self.n, self.p = self.data.shape\n",
    "        self.mean_vector = np.mean(self.data, axis=0)\n",
    "        self.covariance_matrix = np.cov(self.data.transpose())\n",
    "\n",
    "    def __sub__(self, other):\n",
    "        if isinstance(other, np.ndarray):\n",
    "            return MultivariateData(self.data - other)\n",
    "        elif isinstance(other, MultivariateData):\n",
    "            return MultivariateData(self.data - other.data)\n",
    "        else:\n",
    "            raise ValueError(\"Object must be np.array or MultivariateData\")\n",
    "\n",
    "    def __add__(self, other):\n",
    "        if isinstance(other, np.ndarray):\n",
    "            return MultivariateData(self.data + other)\n",
    "        elif isinstance(other, MultivariateData):\n",
    "            return MultivariateData(self.data + other.data)\n",
    "        else:\n",
    "            raise ValueError(\"Object must be np.array or MultivariateData\")\n",
    "\n",
    "    def __mul__(self, other):\n",
    "        if isinstance(other, int) or isinstance(other, float):\n",
    "            return MultivariateData(self.data * other)\n",
    "        elif isinstance(other, MultivariateData):\n",
    "            if self.p == other.n:\n",
    "                return MultivariateData(np.matmul(self.data, other.data))\n",
    "            else:\n",
    "                raise ValueError(\"Dimension does not match.\")\n",
    "        elif isinstance(other, np.ndarray):\n",
    "            return MultivariateData(np.matmul(self.data, other))\n",
    "        else:\n",
    "            raise TypeError(\"Unsupported operation between types\")\n",
    "\n",
    "    def __repr__(self) -> str:\n",
    "        return f\"MultivariateData(SampleSize:{self.n}, Features:{self.p})\"\n",
    "\n",
    "    def append(self, other, orientation: str = 'h'):\n",
    "        \"\"\"Appends MultivariateData in given orientation\n",
    "\n",
    "        Args:\n",
    "            other (MultivariateData): Other multivariate object\n",
    "            orientation (str): 'h' for horizontal, 'v' for vertical\n",
    "        \"\"\"\n",
    "        assert isinstance(other, MultivariateData)\n",
    "        axis = 1 if orientation == 'v' else 0\n",
    "        return MultivariateData(np.concatenate((self.data, other.data), axis=axis))\n",
    "\n",
    "    def generalized_squared_distance(self) -> list:\n",
    "        result = []\n",
    "        inv_cov = np.linalg.inv(self.covariance_matrix)\n",
    "        for row in self.data:\n",
    "            diff = row - self.mean_vector\n",
    "            # numpy broadcasting\n",
    "            result.append(np.matmul(np.matmul(diff, inv_cov), diff))\n",
    "        assert len(result) == self.n\n",
    "        return result\n",
    "\n",
    "    def __get_qq_tuples(self) -> list:\n",
    "        result = []\n",
    "        sorted_general_distance = sorted(self.generalized_squared_distance())\n",
    "        for i, x in enumerate(sorted_general_distance):\n",
    "            x_probability_value = (i+1 - 0.5) / self.n\n",
    "            q_value = chi2.ppf(x_probability_value, self.p)\n",
    "            result.append(\n",
    "                (q_value, x)\n",
    "            )\n",
    "        return result\n",
    "\n",
    "    def qqplot(self, terminal=False):\n",
    "        \"\"\"Draws qqplot for Multivariate Data\n",
    "\n",
    "        Args:\n",
    "            terminal (bool, optional): [Option for drawing the qqplot in terminal].\n",
    "            If False -> draws via matplotlib\n",
    "        \"\"\"\n",
    "        qq_tuples = self.__get_qq_tuples()\n",
    "        x = [x for x, _ in qq_tuples]\n",
    "        y = [y for _, y in qq_tuples]\n",
    "        if terminal:\n",
    "            fig = tpl.figure()\n",
    "            fig.plot(x, y, width=60, height=20)\n",
    "            fig.show()\n",
    "        else:\n",
    "            plt.scatter(x, y)\n",
    "            plt.show()\n",
    "\n",
    "    def hotellings_t_test(self, mu_vector_null, alpha=0.05, method=\"p\"):\n",
    "        \"\"\"Performs Hotellings test for mean comparison, via adjusted F distribution\n",
    "\n",
    "        Args:\n",
    "            mu_vector_null ([int, float]): vector of mean under the null hypothesis\n",
    "            alpha (float, optional): 1-alpha = Significance level. Defaults to 0.05.\n",
    "            method (str, optional): Method of testing. Either 'p' or 'critical'. Defaults to \"p\".\n",
    "        \"\"\"\n",
    "        significance = 1-alpha\n",
    "        assert (isinstance(mu_vector_null, list)\n",
    "                or isinstance(mu_vector_null, np.ndarray))\n",
    "        diff = self.mean_vector - mu_vector_null\n",
    "        if self.p > 1:\n",
    "            inv_cov = np.linalg.inv(self.covariance_matrix)\n",
    "            t_2_statistic = self.n * np.matmul(np.matmul(diff, inv_cov), diff)\n",
    "            critical_value = ((self.n - 1) * self.p)/(self.n-self.p) * \\\n",
    "                f.ppf(significance, self.p, self.n - self.p)\n",
    "            f_statistic = ((self.n - self.p) * t_2_statistic) / \\\n",
    "                ((self.n-1) * self.p)\n",
    "            p_value = 1 - f.cdf(f_statistic, self.p, self.n - self.p)\n",
    "            print(f\"---------------------HOTELLING'S T^2 TEST----------------------\")\n",
    "            print(\n",
    "                f\"Null Hypothesis:\\n  Mean vector {self.mean_vector}\\n  is equal to {np.array(mu_vector_null)}\")\n",
    "            print(f\"Distribution: F{(self.p, self.n-self.p)}\")\n",
    "            print(f\"F statistic: {f_statistic}\")\n",
    "            print(f\"t^2 statistic: {t_2_statistic}\")\n",
    "        else:\n",
    "            print(f\"---------------------      F TEST        ----------------------\")\n",
    "            cov = self.covariance_matrix.max()\n",
    "            x_bar = diff.max()\n",
    "            mu = mu_vector_null[0]\n",
    "            n = self.n\n",
    "            print(\n",
    "                f\"Null Hypothesis:\\n  Mean {x_bar}\\n  is equal to {mu}\")\n",
    "            t_statistic = (x_bar - mu) / (np.sqrt(cov / n))\n",
    "            f_statistic = t_statistic ** 2\n",
    "            p_value = 1 - f.cdf(f_statistic, 1, self.n - 1)\n",
    "            print(f\"Distribution: F({(1, self.n - 1)})\")\n",
    "            print(f\"F statistic: {f_statistic}\")\n",
    "        print(f\"Significance: {significance*100}%\")\n",
    "        if method == 'p':\n",
    "            print(f\"P-value: {p_value}\")\n",
    "        elif method == 'critical':\n",
    "            print(\n",
    "                f\"Critical Value: {critical_value}\")\n",
    "\n",
    "        if p_value < alpha:\n",
    "            print(f\"Conclusion: REJECT the null hypothesis\")\n",
    "        else:\n",
    "            print(f\"Conclusion: DO NOT reject the null hypothesis\")\n",
    "        print(f\"---------------------------------------------------------------\")\n",
    "\n",
    "    def confidence_ellipsoid_info(self, alpha=0.05) -> dict:\n",
    "        \"\"\"Calculates the axis and the length of the ellipsoide of the multivariate data.\n",
    "\n",
    "        Args:\n",
    "            significance (float, optional): [Level of significance]. Defaults to 0.05.\n",
    "\n",
    "        Returns:\n",
    "            dict: integer keys will be the axes in the descending order. Each key has two keys(\"axis\", \"length\")\n",
    "                  axis denotes the direction of the ellipsoide\n",
    "                  length denotes the length of the axis.\n",
    "        \"\"\"\n",
    "        result = {}\n",
    "        significance = 1-alpha\n",
    "        eigenvalues, eigenvectors = np.linalg.eig(self.covariance_matrix)\n",
    "        for i, v in enumerate(eigenvalues):\n",
    "            conf_half_len = np.sqrt(v) * np.sqrt((self.n - 1) * self.p * f.ppf(\n",
    "                significance, self.p, self.n - self.p) / (self.n * (self.n - self.p)))\n",
    "            conf_axe_abs = conf_half_len * eigenvectors[i]\n",
    "            result[i] = {\n",
    "                \"axis\": (conf_axe_abs, -conf_axe_abs),\n",
    "                \"length\": conf_half_len * 2\n",
    "            }\n",
    "        return result\n",
    "\n",
    "    def simultaneous_confidence_interval(self, vector, alpha=0.05, large_sample=False) -> tuple:\n",
    "        \"\"\"Calculates the simultaneous confidence interval given a transformation vector and a significance level.\n",
    "             The default method would be not assuming the data as a large sample.\n",
    "\n",
    "        Args:\n",
    "           vector (list or ndarray): [The transformation vector].\n",
    "           significance (float, optional): [Level of significance]. Defaults to 0.05.\n",
    "           large_sample (bool, optional): [Use large sample assumptions]. Defaults to False.\n",
    "\n",
    "        Returns:\n",
    "           tuple: (lowerbound: float, upperbound: float)\n",
    "        \"\"\"\n",
    "        significance = 1-alpha\n",
    "        assert len(vector) == self.p\n",
    "        if not isinstance(vector, np.ndarray):\n",
    "            vec = np.array(vector)\n",
    "        else:\n",
    "            vec = vector\n",
    "        if not large_sample:\n",
    "            conf_width = np.sqrt(\n",
    "                self.p * (self.n - 1) * f.ppf(significance, self.p, self.n - self.p) * vec.dot(self.covariance_matrix).dot(vec) / (self.n * (self.n - self.p)))\n",
    "            t_mean = vec.dot(self.mean_vector)\n",
    "            return (t_mean - conf_width, t_mean + conf_width)\n",
    "        else:\n",
    "            conf_width = np.sqrt(chi2.ppf(significance, self.p) *\n",
    "                                 vec.dot(self.covariance_matrix).dot(vec)/self.n)\n",
    "            t_mean = vec.dot(self.mean_vector)\n",
    "            return (t_mean - conf_width, t_mean + conf_width)\n",
    "\n",
    "    def profile_analysis(self, flat=True, c_matrix=None, alpha=0.05, method=\"p\"):\n",
    "        if flat:\n",
    "            c_matrix = self.__flat_c_matrix()\n",
    "            transformed_data = MultivariateData(\n",
    "                np.matmul(c_matrix, self.data.T).T)\n",
    "            transformed_data.hotellings_t_test(\n",
    "                np.zeros(transformed_data.p), alpha, method)\n",
    "        else:\n",
    "            assert c_matrix is not None, \"If not flat, c_matrix is required.\"\n",
    "            c_mat = np.array(c_matrix)\n",
    "            try:\n",
    "                _, c_mat_n_col = c_mat.shape\n",
    "            except Exception as e:\n",
    "                if isinstance(e, ValueError) & (e.args[0] == 'not enough values to unpack (expected 2, got 1)'):\n",
    "                    _, c_mat_n_col = (len(c_mat), 1)\n",
    "            transformed_array = np.matmul(c_mat, self.data.T)\n",
    "            # transformed_data = np.reshape(transformed_array , (len(transformed_array),c_mat_n_col))\n",
    "            transformed_data = transformed_array.T\n",
    "            transformed_multivar_data = MultivariateData(transformed_data)\n",
    "            transformed_multivar_data.hotellings_t_test(\n",
    "                [0]*len(c_mat), alpha, method)\n",
    "        return\n",
    "\n",
    "    def __flat_c_matrix(self):\n",
    "        minus_identity_matrix = -np.identity(self.p)\n",
    "        col_ones = np.ones((self.p, 1))\n",
    "        return np.hstack((col_ones, minus_identity_matrix))[:self.p-1, :self.p]\n"
   ]
  },
  {
   "cell_type": "markdown",
   "metadata": {},
   "source": [
    "## 2. \n",
    "\n",
    "### a.\n",
    "\n",
    "\n"
   ]
  },
  {
   "cell_type": "code",
   "execution_count": 4,
   "metadata": {},
   "outputs": [],
   "source": [
    "stiff_df = pd.read_csv(\n",
    "    'stiff.DAT',\n",
    "    header=None,\n",
    "    index_col=False,\n",
    "    delim_whitespace=True)\n",
    "stiff_df.columns = ['x1', 'x2', 'x3', 'x4', 'd2']\n",
    "stiff = MultivariateData(stiff_df.iloc[:, 0:4])"
   ]
  },
  {
   "cell_type": "code",
   "execution_count": 5,
   "metadata": {},
   "outputs": [
    {
     "name": "stdout",
     "output_type": "stream",
     "text": [
      "---------------------HOTELLING'S T^2 TEST----------------------\n",
      "Null Hypothesis:\n",
      "  Mean vector [156.56666667 396.96666667 181.13333333]\n",
      "  is equal to [0. 0. 0.]\n",
      "Distribution: F(3, 27)\n",
      "F statistic: 79.0514087513837\n",
      "t^2 statistic: 254.72120597668084\n",
      "Significance: 95.0%\n",
      "P-value: 1.7219559111936178e-13\n",
      "Conclusion: REJECT the null hypothesis\n",
      "---------------------------------------------------------------\n"
     ]
    }
   ],
   "source": [
    "stiff.profile_analysis(flat=True, alpha=0.05)"
   ]
  },
  {
   "cell_type": "markdown",
   "metadata": {},
   "source": [
    "### b."
   ]
  },
  {
   "cell_type": "code",
   "execution_count": 6,
   "metadata": {},
   "outputs": [
    {
     "name": "stdout",
     "output_type": "stream",
     "text": [
      "---------------------HOTELLING'S T^2 TEST----------------------\n",
      "Null Hypothesis:\n",
      "  Mean vector [-83.83333333 456.23333333]\n",
      "  is equal to [0 0]\n",
      "Distribution: F(2, 28)\n",
      "F statistic: 87.08000779315766\n",
      "t^2 statistic: 180.38001614296945\n",
      "Significance: 95.0%\n",
      "P-value: 9.560130465047223e-13\n",
      "Conclusion: REJECT the null hypothesis\n",
      "---------------------------------------------------------------\n"
     ]
    }
   ],
   "source": [
    "c_mat = np.array(\n",
    "    [\n",
    "        [1, -2, 1, 0],\n",
    "        [0, 1, -2, 1],\n",
    "    ]\n",
    ")\n",
    "stiff.profile_analysis(flat=False, c_matrix=c_mat)"
   ]
  },
  {
   "cell_type": "markdown",
   "metadata": {},
   "source": [
    "### c."
   ]
  },
  {
   "cell_type": "code",
   "execution_count": 7,
   "metadata": {},
   "outputs": [
    {
     "name": "stdout",
     "output_type": "stream",
     "text": [
      "statistic = 79.05140875138369\n",
      "pvalue = 1.721915017054007e-13\n",
      "df = (3, 27)\n",
      "t2 = 254.72120597668078\n",
      "distr = F\n",
      "tuple = (79.05140875138369, 1.721915017054007e-13)\n"
     ]
    }
   ],
   "source": [
    "from statsmodels.stats import multivariate as mv\n",
    "print(mv.test_mvmean(\n",
    "    pd.concat([\n",
    "        stiff_df['x1'] - stiff_df['x2'],\n",
    "        stiff_df['x2'] - stiff_df['x3'],\n",
    "        stiff_df['x3'] - stiff_df['x4'],\n",
    "    ], axis=1)\n",
    "))"
   ]
  },
  {
   "cell_type": "code",
   "execution_count": 8,
   "metadata": {},
   "outputs": [
    {
     "name": "stdout",
     "output_type": "stream",
     "text": [
      "statistic = 87.08000779315768\n",
      "pvalue = 9.560459481929198e-13\n",
      "df = (2, 28)\n",
      "t2 = 180.38001614296948\n",
      "distr = F\n",
      "tuple = (87.08000779315768, 9.560459481929198e-13)\n"
     ]
    }
   ],
   "source": [
    "print(mv.test_mvmean(\n",
    "    pd.concat([\n",
    "        stiff_df['x1'] - 2*stiff_df['x2'] + stiff_df['x3'],\n",
    "        stiff_df['x2'] - 2*stiff_df['x3'] + stiff_df['x4'],\n",
    "    ], axis=1)\n",
    "))"
   ]
  },
  {
   "cell_type": "markdown",
   "metadata": {},
   "source": [
    "## 3.\n",
    "\n",
    "### a."
   ]
  },
  {
   "cell_type": "code",
   "execution_count": 9,
   "metadata": {},
   "outputs": [
    {
     "name": "stdout",
     "output_type": "stream",
     "text": [
      "---------------------HOTELLING'S T^2 TEST----------------------\n",
      "Null Hypothesis:\n",
      "  Mean vector [-193.4         -48.26666667]\n",
      "  is equal to [0 0]\n",
      "Distribution: F(2, 13)\n",
      "F statistic: 1.269778799536756\n",
      "t^2 statistic: 2.7349081836176286\n",
      "Significance: 95.0%\n",
      "P-value: 0.3135310532015405\n",
      "Conclusion: DO NOT reject the null hypothesis\n",
      "---------------------------------------------------------------\n"
     ]
    }
   ],
   "source": [
    "lumber_df = pd.read_csv(\n",
    "    'lumber.dat',\n",
    "    header=None,\n",
    "    index_col=False,\n",
    "    delim_whitespace=True)\n",
    "lumber_df.columns = ['x1', 'x2']\n",
    "lumber_sample_first = lumber_df[:15]\n",
    "lumber_sample_second = lumber_df[15:]\n",
    "lumber = MultivariateData(lumber_df)\n",
    "lumber_s1 = MultivariateData(lumber_sample_first)\n",
    "lumber_s2 = MultivariateData(lumber_sample_second)\n",
    "lumber_subtracted = lumber_s1 - lumber_s2\n",
    "lumber_subtracted.hotellings_t_test([0,0])"
   ]
  },
  {
   "cell_type": "markdown",
   "metadata": {},
   "source": [
    "### b."
   ]
  },
  {
   "cell_type": "code",
   "execution_count": 10,
   "metadata": {},
   "outputs": [
    {
     "name": "stdout",
     "output_type": "stream",
     "text": [
      "(-546.0898558358173, 159.2898558358173)\n"
     ]
    }
   ],
   "source": [
    "pprint.pprint(lumber_subtracted.simultaneous_confidence_interval([1, 0]))"
   ]
  },
  {
   "cell_type": "markdown",
   "metadata": {},
   "source": [
    "### c."
   ]
  },
  {
   "cell_type": "code",
   "execution_count": 11,
   "metadata": {},
   "outputs": [
    {
     "name": "stdout",
     "output_type": "stream",
     "text": [
      "---------------------HOTELLING'S T^2 TEST----------------------\n",
      "Null Hypothesis:\n",
      "  Mean vector [-193.4         -48.26666667]\n",
      "  is equal to [0 0]\n",
      "Distribution: F(2, 13)\n",
      "F statistic: 1.269778799536756\n",
      "t^2 statistic: 2.7349081836176286\n",
      "Significance: 95.0%\n",
      "P-value: 0.3135310532015405\n",
      "Conclusion: DO NOT reject the null hypothesis\n",
      "---------------------------------------------------------------\n"
     ]
    }
   ],
   "source": [
    "c_mat = np.array([\n",
    "    [1, 0, -1, 0],\n",
    "    [0, 1, 0, -1],\n",
    "])\n",
    "lumber_concat = lumber_s1.append(lumber_s2, 'v')\n",
    "lumber_concat.profile_analysis(flat=False, c_matrix=c_mat)"
   ]
  }
 ],
 "metadata": {
  "kernelspec": {
   "display_name": "Python 3",
   "language": "python",
   "name": "python3"
  },
  "language_info": {
   "codemirror_mode": {
    "name": "ipython",
    "version": 3
   },
   "file_extension": ".py",
   "mimetype": "text/x-python",
   "name": "python",
   "nbconvert_exporter": "python",
   "pygments_lexer": "ipython3",
   "version": "3.8.5"
  },
  "metadata": {
   "interpreter": {
    "hash": "7977c45806cdf3e0dd41dd5ac4f02653cd6b201ea1f52a9753d7a8820e467c8a"
   }
  }
 },
 "nbformat": 4,
 "nbformat_minor": 4
}
