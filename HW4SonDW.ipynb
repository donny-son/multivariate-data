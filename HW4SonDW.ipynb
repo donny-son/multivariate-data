{
 "cells": [
  {
   "cell_type": "code",
   "execution_count": 2,
   "metadata": {},
   "outputs": [],
   "source": [
    "import numpy as np\n",
    "import pandas as pd\n",
    "from scipy.stats import chi2, f\n",
    "import matplotlib.pyplot as plt\n",
    "import pprint\n",
    "try:\n",
    "    import termplotlib as tpl\n",
    "except Exception as e:\n",
    "    print(f\"termploblib is not installed.\\nUsing matplotlib as default.\")"
   ]
  },
  {
   "cell_type": "markdown",
   "metadata": {},
   "source": [
    "# 1 \n",
    "\n",
    "> Write a Python code to implement Hotelling’s T2 test of a mean vector. (use p-value for testing).\n",
    "\n",
    "Hotelling's test is implemented as a method for the `MultivariateData` object as `hotellings_t_test`. "
   ]
  },
  {
   "cell_type": "code",
   "execution_count": 3,
   "metadata": {},
   "outputs": [],
   "source": [
    "class MultivariateData:\n",
    "    \"\"\"\n",
    "        Object for computing multivariate data\n",
    "\n",
    "        Attributes:\n",
    "            data (np.array): input data\n",
    "            n, (int):\n",
    "            p (int):\n",
    "            mean_vector (np.array):\n",
    "            covariance_matrix (np.array):\n",
    "\n",
    "        Args:\n",
    "            inputdata (np.array, list, tuple, ...): any iterable object that numpy supports\n",
    "    \"\"\"\n",
    "\n",
    "    def __init__(self, inputdata) -> None:\n",
    "        self.data = np.array(inputdata)\n",
    "        self.n, self.p = self.data.shape\n",
    "        self.mean_vector = np.mean(self.data, axis=0)\n",
    "        self.covariance_matrix = np.cov(self.data.transpose())\n",
    "\n",
    "    def __repr__(self) -> str:\n",
    "        return f\"MultivariateData(SampleSize:{self.n}, Features:{self.p})\"\n",
    "\n",
    "    def generalized_squared_distance(self) -> list:\n",
    "        result = []\n",
    "        inv_cov = np.linalg.inv(self.covariance_matrix)\n",
    "        for row in self.data:\n",
    "            diff = row - self.mean_vector\n",
    "            # numpy broadcasting\n",
    "            result.append(np.matmul(np.matmul(diff, inv_cov), diff))\n",
    "        assert len(result) == self.n\n",
    "        return result\n",
    "\n",
    "    def __get_qq_tuples(self) -> list:\n",
    "        result = []\n",
    "        sorted_general_distance = sorted(self.generalized_squared_distance())\n",
    "        for i, x in enumerate(sorted_general_distance):\n",
    "            x_probability_value = (i+1 - 0.5) / self.n\n",
    "            q_value = chi2.ppf(x_probability_value, self.p)\n",
    "            result.append(\n",
    "                (q_value, x)\n",
    "            )\n",
    "        return result\n",
    "\n",
    "    def qqplot(self, terminal=False):\n",
    "        \"\"\"Draws qqplot for Multivariate Data\n",
    "\n",
    "        Args:\n",
    "            terminal (bool, optional): [Option for drawing the qqplot in terminal].\n",
    "            If False -> draws via matplotlib\n",
    "        \"\"\"\n",
    "        qq_tuples = self.__get_qq_tuples()\n",
    "        x = [x for x, _ in qq_tuples]\n",
    "        y = [y for _, y in qq_tuples]\n",
    "        if terminal:\n",
    "            fig = tpl.figure()\n",
    "            fig.plot(x, y, width=60, height=20)\n",
    "            fig.show()\n",
    "        else:\n",
    "            plt.scatter(x, y)\n",
    "            plt.show()\n",
    "\n",
    "    def hotellings_t_test(self, mu_vector_null, significance=0.05, method=\"p\"):\n",
    "        \"\"\"Performs Hotellings test for mean comparison, via adjusted F distribution\n",
    "\n",
    "        Args:\n",
    "            mu_vector_null ([int, float]): vector of mean under the null hypothesis\n",
    "            significance (float, optional): Significance level. Defaults to 0.05.\n",
    "            method (str, optional): Method of testing. Either 'p' or 'critical'. Defaults to \"p\".\n",
    "        \"\"\"\n",
    "        assert (isinstance(mu_vector_null, list)\n",
    "                or isinstance(mu_vector_null, np.ndarray))\n",
    "        assert (0 < significance < 1)\n",
    "        inv_cov = np.linalg.inv(self.covariance_matrix)\n",
    "        diff = self.mean_vector - mu_vector_null\n",
    "        t_2_statistic = self.n * np.matmul(np.matmul(diff, inv_cov), diff)\n",
    "        critical_value = ((self.n - 1) * self.p)/(self.n-self.p) * \\\n",
    "            f.ppf(significance, self.p, self.n - self.p)\n",
    "        f_statistic = ((self.n - self.p) * t_2_statistic) / \\\n",
    "            ((self.n-1) * self.p)\n",
    "        p_value = 1-f.cdf(f_statistic, self.p, self.n - self.p)\n",
    "        print(f\"---------------------HOTELLING'S T^2 TEST----------------------\")\n",
    "        print(\n",
    "            f\"Null Hypothesis:\\n  Mean vector {self.mean_vector}\\n  is equal to {np.array(mu_vector_null)}\")\n",
    "        print(f\"T^2 statistic: {t_2_statistic}\")\n",
    "        print(f\"F statistic: {f_statistic}\")\n",
    "\n",
    "        print(f\"Significance(alpha): {significance}\")\n",
    "\n",
    "        if method == 'p':\n",
    "            print(f\"P-value: {p_value}\")\n",
    "        elif method == 'critical':\n",
    "            print(\n",
    "                f\"Critical Value: {critical_value}\")\n",
    "\n",
    "        if p_value < significance:\n",
    "            print(f\"Conclusion: REJECT the null hypothesis\")\n",
    "        else:\n",
    "            print(f\"Conclusion: DO NOT reject the null hypothesis\")\n",
    "        print(f\"---------------------------------------------------------------\")\n",
    "\n",
    "    def confidence_ellipsoid_info(self, significance=0.05) -> dict:\n",
    "        \"\"\"Calculates the axis and the length of the ellipsoide of the multivariate data.\n",
    "\n",
    "        Args:\n",
    "            significance (float, optional): [Level of significance]. Defaults to 0.05.\n",
    "\n",
    "        Returns:\n",
    "            dict: integer keys will be the axes in the descending order. Each key has two keys(\"axis\", \"length\")\n",
    "                  axis denotes the direction of the ellipsoide\n",
    "                  length denotes the length of the axis.\n",
    "        \"\"\"\n",
    "        result = {}\n",
    "        eigenvalues, eigenvectors = np.linalg.eig(self.covariance_matrix)\n",
    "        for i, v in enumerate(eigenvalues):\n",
    "            conf_half_len = np.sqrt(v) * np.sqrt((self.n - 1) * self.p * f.ppf(\n",
    "                significance, self.p, self.n - self.p) / (self.n * (self.n - self.p)))\n",
    "            conf_axe_abs = conf_half_len * eigenvectors[i]\n",
    "            result[i] = {\n",
    "                \"axis\": (conf_axe_abs, -conf_axe_abs),\n",
    "                \"length\": conf_half_len * 2\n",
    "            }\n",
    "        return result\n",
    "\n",
    "    def simultaneous_confidence_interval(self, vector, significance=0.05, large_sample=False) -> tuple:\n",
    "        \"\"\"Calculates the simultaneous confidence interval given a transformation vector and a significance level.\n",
    "             The default method would be not assuming the data as a large sample.\n",
    "\n",
    "        Args:\n",
    "           vector (list or ndarray): [The transformation vector].\n",
    "           significance (float, optional): [Level of significance]. Defaults to 0.05.\n",
    "           large_sample (bool, optional): [Use large sample assumptions]. Defaults to False.\n",
    "\n",
    "        Returns:\n",
    "           tuple: (lowerbound: float, upperbound: float)\n",
    "        \"\"\"\n",
    "        assert len(vector) == self.p\n",
    "        if not isinstance(vector, np.ndarray):\n",
    "            vec = np.array(vector)\n",
    "        else:\n",
    "            vec = vector\n",
    "        if not large_sample:\n",
    "            conf_width = np.sqrt(\n",
    "                self.p * (self.n - 1) * f.ppf(significance, self.p, self.n - self.p) * vec.dot(self.covariance_matrix).dot(vec) / (self.n * (self.n - self.p)))\n",
    "            t_mean = vec.dot(self.mean_vector)\n",
    "            return (t_mean - conf_width, t_mean + conf_width)\n",
    "        else:\n",
    "            conf_width = np.sqrt(chi2.ppf(significance, self.p) *\n",
    "                                 vec.dot(self.covariance_matrix).dot(vec)/self.n)\n",
    "            t_mean = vec.dot(self.mean_vector)\n",
    "            return (t_mean - conf_width, t_mean + conf_width)\n"
   ]
  },
  {
   "cell_type": "markdown",
   "metadata": {},
   "source": [
    "# 2. \n",
    "## a.\n",
    "Testing `college.DAT` with the implemented function above. "
   ]
  },
  {
   "cell_type": "code",
   "execution_count": 4,
   "metadata": {},
   "outputs": [
    {
     "output_type": "stream",
     "name": "stdout",
     "text": [
      "---------------------HOTELLING'S T^2 TEST----------------------\nNull Hypothesis:\n  Mean vector [526.5862069   54.68965517  25.12643678]\n  is equal to [500  50  30]\nT^2 statistic: 223.3101756848916\nF statistic: 72.70563859508097\nSignificance(alpha): 0.05\nP-value: 1.1102230246251565e-16\nConclusion: REJECT the null hypothesis\n---------------------------------------------------------------\n"
     ]
    }
   ],
   "source": [
    "college_dat = pd.read_csv(\"college.DAT\", delim_whitespace=True, header=None)\n",
    "college_dat.columns = [\"ssh\", \"vrbl\", \"sci\"]\n",
    "cd = MultivariateData(college_dat)\n",
    "null_hypothesis_mean_vector = [500, 50, 30]\n",
    "cd.hotellings_t_test(null_hypothesis_mean_vector, significance=0.05)"
   ]
  },
  {
   "cell_type": "markdown",
   "metadata": {},
   "source": [
    "# 2. \n",
    "## b. "
   ]
  },
  {
   "cell_type": "code",
   "execution_count": 5,
   "metadata": {},
   "outputs": [],
   "source": [
    "from statsmodels.stats import multivariate as mv"
   ]
  },
  {
   "cell_type": "code",
   "execution_count": 7,
   "metadata": {},
   "outputs": [
    {
     "output_type": "execute_result",
     "data": {
      "text/plain": [
       "<class 'statsmodels.stats.base.HolderTuple'>\n",
       "statistic = 72.70563859508101\n",
       "pvalue = 2.828097062464791e-23\n",
       "df = (3, 84)\n",
       "t2 = 223.3101756848917\n",
       "distr = F\n",
       "tuple = (72.70563859508101, 2.828097062464791e-23)"
      ]
     },
     "metadata": {},
     "execution_count": 7
    }
   ],
   "source": [
    "mv.test_mvmean(cd.data - null_hypothesis_mean_vector)"
   ]
  },
  {
   "cell_type": "markdown",
   "metadata": {},
   "source": [
    "The result derived from the `statsmodel` package is consistent with my custom function. Note that even though the pvalue seems different, in reality it is not. This is due to the fact that computer software cannot accurately represent `float` this small. "
   ]
  },
  {
   "cell_type": "markdown",
   "metadata": {},
   "source": [
    "# 2.\n",
    "## c."
   ]
  },
  {
   "cell_type": "code",
   "execution_count": 8,
   "metadata": {},
   "outputs": [
    {
     "output_type": "stream",
     "name": "stdout",
     "text": [
      "{0: {'axis': (array([-4.89424684, -0.51080087, -0.18371125]),\n              array([4.89424684, 0.51080087, 0.18371125])),\n     'length': 9.848516527874517},\n 1: {'axis': (array([-0.0530798 ,  0.51035257, -0.00491465]),\n              array([ 0.0530798 , -0.51035257,  0.00491465])),\n     'length': 1.0262579964587029},\n 2: {'axis': (array([-0.00934886,  0.00138893,  0.24520082]),\n              array([ 0.00934886, -0.00138893, -0.24520082])),\n     'length': 0.49076582646381417}}\n"
     ]
    }
   ],
   "source": [
    "pprint.pprint(cd.confidence_ellipsoid_info(significance=0.05))"
   ]
  },
  {
   "cell_type": "markdown",
   "metadata": {},
   "source": [
    "# 2.\n",
    "## d."
   ]
  },
  {
   "cell_type": "markdown",
   "metadata": {},
   "source": [
    "> Find the simultaneous confidence interval for $\\mu_1 -2\\mu_2 + \\mu_3$."
   ]
  },
  {
   "cell_type": "code",
   "execution_count": 9,
   "metadata": {},
   "outputs": [
    {
     "output_type": "stream",
     "name": "stdout",
     "text": [
      "(438.1245590084046, 446.5421076582621)\n"
     ]
    }
   ],
   "source": [
    "print(cd.simultaneous_confidence_interval([1, -2, 1]))"
   ]
  },
  {
   "cell_type": "markdown",
   "metadata": {},
   "source": [
    "# 3.\n",
    "## a.\n",
    "\n",
    "> Find the simultaneous confidence interval for $\\mu_1 + 2\\mu_2 - \\mu_3 - 2\\mu_4$."
   ]
  },
  {
   "cell_type": "code",
   "execution_count": 10,
   "metadata": {},
   "outputs": [
    {
     "output_type": "stream",
     "name": "stdout",
     "text": [
      "(341.5131034172878, 550.6868965827111)\n"
     ]
    }
   ],
   "source": [
    "# import data\n",
    "stiff = pd.read_csv('stiff.DAT',\n",
    "                    header=None, delim_whitespace=True)\n",
    "stiff.columns = ['x1', 'x2', 'x3', 'x4', 'x5']\n",
    "\n",
    "stf = MultivariateData(stiff)\n",
    "print(stf.simultaneous_confidence_interval([1, 2, -1, -2, 0]))"
   ]
  },
  {
   "cell_type": "markdown",
   "metadata": {},
   "source": [
    "## b.\n",
    "> Repeating the above step with large sample assumption."
   ]
  },
  {
   "cell_type": "code",
   "execution_count": 11,
   "metadata": {},
   "outputs": [
    {
     "output_type": "stream",
     "name": "stdout",
     "text": [
      "(347.2745304989698, 544.925469501029)\n"
     ]
    }
   ],
   "source": [
    "print(stf.simultaneous_confidence_interval(\n",
    "    [1, 2, -1, -2, 0], large_sample=True))"
   ]
  },
  {
   "cell_type": "markdown",
   "metadata": {},
   "source": [
    "We can observe that the confidence interval slightly shortened compared to the above result. "
   ]
  }
 ],
 "metadata": {
  "kernelspec": {
   "name": "python385jvsc74a57bd0dca0ade3e726a953b501b15e8e990130d2b7799f14cfd9f4271676035ebe5511",
   "display_name": "Python 3.8.5 64-bit ('base': conda)"
  },
  "language_info": {
   "codemirror_mode": {
    "name": "ipython",
    "version": 3
   },
   "file_extension": ".py",
   "mimetype": "text/x-python",
   "name": "python",
   "nbconvert_exporter": "python",
   "pygments_lexer": "ipython3",
   "version": "3.8.5-final"
  },
  "metadata": {
   "interpreter": {
    "hash": "7977c45806cdf3e0dd41dd5ac4f02653cd6b201ea1f52a9753d7a8820e467c8a"
   }
  }
 },
 "nbformat": 4,
 "nbformat_minor": 4
}